{
 "cells": [
  {
   "cell_type": "markdown",
   "id": "3efbbbd6-5473-49c8-957e-2dcf5e20e095",
   "metadata": {},
   "source": [
    "## Tutorial 3: Array Indexing and Slicing\n",
    "Basic Indexing\\\n",
    "Accessing elements in arrays.\\\n",
    "Slicing Arrays\\\n",
    "Understanding slicing techniques to extract subarrays.\\\n",
    "Advanced Indexing\\\n",
    "Boolean indexing and fancy indexing.\n"
   ]
  },
  {
   "cell_type": "code",
   "execution_count": 11,
   "id": "67271e46-ee86-454f-9fa5-6135153f8fa7",
   "metadata": {},
   "outputs": [],
   "source": [
    "import numpy as np\n"
   ]
  },
  {
   "cell_type": "code",
   "execution_count": 12,
   "id": "b48cedc2-26a4-4f51-9857-388fb6f2665f",
   "metadata": {},
   "outputs": [
    {
     "name": "stdout",
     "output_type": "stream",
     "text": [
      "10\n"
     ]
    }
   ],
   "source": [
    "# Create a 1D array\n",
    "arr = np.array([10, 20, 30, 40, 50])\n",
    "first_element = arr[0]  \n",
    "print(first_element)"
   ]
  },
  {
   "cell_type": "code",
   "execution_count": 13,
   "id": "e4c0ef58-7c0d-406a-8684-70582b569185",
   "metadata": {},
   "outputs": [
    {
     "name": "stdout",
     "output_type": "stream",
     "text": [
      "30\n"
     ]
    }
   ],
   "source": [
    "third_element = arr[2]\n",
    "print(third_element)"
   ]
  },
  {
   "cell_type": "code",
   "execution_count": 15,
   "id": "c1e4ae0b-c08a-417e-9387-726c0cb62f8e",
   "metadata": {},
   "outputs": [
    {
     "name": "stdout",
     "output_type": "stream",
     "text": [
      "[[1 2 3]\n",
      " [4 5 6]\n",
      " [7 8 9]]\n",
      "6\n"
     ]
    }
   ],
   "source": [
    "# Create a 2D array\n",
    "matrix = np.array([[1, 2, 3], [4, 5, 6], [7, 8, 9]])\n",
    "print(matrix)\n",
    "\n",
    "\n",
    "# Access the element in the second row, third column\n",
    "element = matrix[1, 2]\n",
    "print(element)"
   ]
  },
  {
   "cell_type": "code",
   "execution_count": 16,
   "id": "4496fdb8-26e0-424a-9293-a99d2433840c",
   "metadata": {},
   "outputs": [
    {
     "name": "stdout",
     "output_type": "stream",
     "text": [
      "[20 30 40]\n"
     ]
    }
   ],
   "source": [
    "#slicing array\n",
    "#array[start:stop:step]\n",
    "\n",
    "# Slice elements from index 1 to 4\n",
    "subarray = arr[1:4] \n",
    "print(subarray)"
   ]
  },
  {
   "cell_type": "code",
   "execution_count": 18,
   "id": "1a420d4d-4db2-43c4-8126-f063ce0e92c4",
   "metadata": {},
   "outputs": [
    {
     "name": "stdout",
     "output_type": "stream",
     "text": [
      "[10 20 30 40 50]\n",
      "[10 30 50]\n"
     ]
    }
   ],
   "source": [
    "# Slice every other element\n",
    "every_other = arr[::2]\n",
    "print(arr)\n",
    "print(every_other)"
   ]
  },
  {
   "cell_type": "code",
   "execution_count": 19,
   "id": "9f983302-b49c-4f43-9009-00c1eb52777a",
   "metadata": {},
   "outputs": [
    {
     "name": "stdout",
     "output_type": "stream",
     "text": [
      "[40 50]\n"
     ]
    }
   ],
   "source": [
    "last_two = arr[-2:] \n",
    "print(last_two)"
   ]
  },
  {
   "cell_type": "code",
   "execution_count": 21,
   "id": "61aa43e6-9f83-4f7a-b57f-ba8788a6bb4b",
   "metadata": {},
   "outputs": [
    {
     "name": "stdout",
     "output_type": "stream",
     "text": [
      "[[1 2 3]\n",
      " [4 5 6]\n",
      " [7 8 9]]\n"
     ]
    }
   ],
   "source": [
    "# Slice the first two rows and the last two columns\n",
    "submatrix = matrix[:2, -2:] \n",
    "\n",
    "print(matrix)"
   ]
  },
  {
   "cell_type": "code",
   "execution_count": 22,
   "id": "73ead0e4-7be2-4f76-b844-fe2c4905514a",
   "metadata": {},
   "outputs": [
    {
     "name": "stdout",
     "output_type": "stream",
     "text": [
      "[[2 3]\n",
      " [5 6]]\n"
     ]
    }
   ],
   "source": [
    "print(submatrix)"
   ]
  },
  {
   "cell_type": "markdown",
   "id": "11e2c924-2505-4010-89bc-5ae1c54f9931",
   "metadata": {},
   "source": [
    "## Advanced Indexing\n"
   ]
  },
  {
   "cell_type": "code",
   "execution_count": 24,
   "id": "2fb02f1b-8561-40e1-80e4-a8584ffbed9f",
   "metadata": {},
   "outputs": [
    {
     "name": "stdout",
     "output_type": "stream",
     "text": [
      "[10 20 30 40 50]\n",
      "[False False  True  True  True]\n"
     ]
    }
   ],
   "source": [
    "# Create a boolean array where elements are greater than 25\n",
    "print(arr)\n",
    "bool_idx = arr > 25\n",
    "print(bool_idx)"
   ]
  },
  {
   "cell_type": "code",
   "execution_count": 25,
   "id": "ca3cd3f5-87df-4f40-86c2-951ed28d17a4",
   "metadata": {},
   "outputs": [
    {
     "name": "stdout",
     "output_type": "stream",
     "text": [
      "[30 40 50]\n"
     ]
    }
   ],
   "source": [
    "# Use boolean indexing to select elements\n",
    "filtered_array = arr[bool_idx]\n",
    "print(filtered_array)"
   ]
  },
  {
   "cell_type": "code",
   "execution_count": 27,
   "id": "49dd1e6f-f824-4c49-9573-f059fb727365",
   "metadata": {},
   "outputs": [
    {
     "name": "stdout",
     "output_type": "stream",
     "text": [
      "[10 30 50]\n"
     ]
    }
   ],
   "source": [
    "# Indices of elements to access\n",
    "indices = [0, 2, 4]\n",
    "\n",
    "# Use fancy indexing\n",
    "selected_elements = arr[indices] \n",
    "# print(arr)\n",
    "print(selected_elements)"
   ]
  },
  {
   "cell_type": "code",
   "execution_count": null,
   "id": "34714d0e-460f-4d3a-a25d-e8c0c592b756",
   "metadata": {},
   "outputs": [],
   "source": []
  }
 ],
 "metadata": {
  "kernelspec": {
   "display_name": "Python 3 (ipykernel)",
   "language": "python",
   "name": "python3"
  },
  "language_info": {
   "codemirror_mode": {
    "name": "ipython",
    "version": 3
   },
   "file_extension": ".py",
   "mimetype": "text/x-python",
   "name": "python",
   "nbconvert_exporter": "python",
   "pygments_lexer": "ipython3",
   "version": "3.9.13"
  }
 },
 "nbformat": 4,
 "nbformat_minor": 5
}
