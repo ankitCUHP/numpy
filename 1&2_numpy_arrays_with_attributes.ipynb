{
 "cells": [
  {
   "cell_type": "markdown",
   "id": "91400b42-ea44-436a-b2ef-abdec6b4ec66",
   "metadata": {},
   "source": [
    "## Numpy arrays and array attributes"
   ]
  },
  {
   "cell_type": "code",
   "execution_count": 1,
   "id": "0b6f8b2b-f90b-42eb-a044-d05771cfe5b2",
   "metadata": {},
   "outputs": [],
   "source": [
    "import numpy as np"
   ]
  },
  {
   "cell_type": "code",
   "execution_count": 6,
   "id": "3b4870de-3ab5-4607-aaed-5903f0c5c5c9",
   "metadata": {},
   "outputs": [
    {
     "name": "stdout",
     "output_type": "stream",
     "text": [
      "(3,)\n"
     ]
    }
   ],
   "source": [
    "#array\n",
    "array1d = np.array([1,2,3])\n",
    "print(array1d.shape)"
   ]
  },
  {
   "cell_type": "code",
   "execution_count": 12,
   "id": "bb681aa0-7c16-4168-b3d1-0aa264f80ea3",
   "metadata": {},
   "outputs": [
    {
     "name": "stdout",
     "output_type": "stream",
     "text": [
      "int64\n"
     ]
    }
   ],
   "source": [
    "#shape\n",
    "array2d = np.array([[1,2,3],[5,6,7]])\n",
    "print(array2d.dtype)"
   ]
  },
  {
   "cell_type": "code",
   "execution_count": 11,
   "id": "d733f223-a010-426a-983a-914f47374aec",
   "metadata": {},
   "outputs": [
    {
     "name": "stdout",
     "output_type": "stream",
     "text": [
      "15\n"
     ]
    }
   ],
   "source": [
    "#zeros\n",
    "#size\n",
    "zeros = np.zeros((5,3))\n",
    "print(zeros.size)"
   ]
  },
  {
   "cell_type": "code",
   "execution_count": 13,
   "id": "0a1a964b-1f87-447e-a0a2-b4fda45769b8",
   "metadata": {},
   "outputs": [
    {
     "name": "stdout",
     "output_type": "stream",
     "text": [
      "[[1. 1. 1. 1. 1. 1.]\n",
      " [1. 1. 1. 1. 1. 1.]\n",
      " [1. 1. 1. 1. 1. 1.]\n",
      " [1. 1. 1. 1. 1. 1.]]\n"
     ]
    }
   ],
   "source": [
    "ones = np.ones((4,6))\n",
    "print(ones)"
   ]
  },
  {
   "cell_type": "code",
   "execution_count": 19,
   "id": "cf7f6b93-63c8-4ef4-81f9-100c1e70eee2",
   "metadata": {},
   "outputs": [
    {
     "name": "stdout",
     "output_type": "stream",
     "text": [
      "[ 0  2  4  6  8 10]\n"
     ]
    }
   ],
   "source": [
    "arrange = np.arange(0,11,2)\n",
    "print(arrange)"
   ]
  },
  {
   "cell_type": "code",
   "execution_count": 14,
   "id": "825966f9-8873-4f73-a703-46ebbe2e19c7",
   "metadata": {},
   "outputs": [
    {
     "name": "stdout",
     "output_type": "stream",
     "text": [
      "<U6\n"
     ]
    }
   ],
   "source": [
    "string = ['apple','banana','xyz123']\n",
    "s = np.array(string)\n",
    "print(s.dtype)"
   ]
  },
  {
   "cell_type": "code",
   "execution_count": 15,
   "id": "93df095c-29e8-4d59-a059-1debb624b905",
   "metadata": {},
   "outputs": [
    {
     "name": "stdout",
     "output_type": "stream",
     "text": [
      "bool\n"
     ]
    }
   ],
   "source": [
    "b = [True,False]\n",
    "b = np.array(b)\n",
    "print(b.dtype)"
   ]
  }
 ],
 "metadata": {
  "kernelspec": {
   "display_name": "Python 3 (ipykernel)",
   "language": "python",
   "name": "python3"
  },
  "language_info": {
   "codemirror_mode": {
    "name": "ipython",
    "version": 3
   },
   "file_extension": ".py",
   "mimetype": "text/x-python",
   "name": "python",
   "nbconvert_exporter": "python",
   "pygments_lexer": "ipython3",
   "version": "3.9.13"
  }
 },
 "nbformat": 4,
 "nbformat_minor": 5
}
